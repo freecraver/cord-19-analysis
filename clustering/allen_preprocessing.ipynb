{
 "cells": [
  {
   "cell_type": "code",
   "execution_count": 1,
   "metadata": {},
   "outputs": [],
   "source": [
    "import pandas as pd\n",
    "import numpy as np\n",
    "import matplotlib.pyplot as plt\n",
    "import math\n",
    "\n",
    "plt.style.use('ggplot')\n",
    "%matplotlib inline"
   ]
  },
  {
   "cell_type": "code",
   "execution_count": 2,
   "metadata": {},
   "outputs": [],
   "source": [
    "ALLEN_AI_RES_PATH = \"../res/allenai/metadata.csv\""
   ]
  },
  {
   "cell_type": "code",
   "execution_count": 3,
   "metadata": {},
   "outputs": [
    {
     "name": "stdout",
     "output_type": "stream",
     "text": [
      "44220\n"
     ]
    },
    {
     "data": {
      "text/html": [
       "<div>\n",
       "<style scoped>\n",
       "    .dataframe tbody tr th:only-of-type {\n",
       "        vertical-align: middle;\n",
       "    }\n",
       "\n",
       "    .dataframe tbody tr th {\n",
       "        vertical-align: top;\n",
       "    }\n",
       "\n",
       "    .dataframe thead th {\n",
       "        text-align: right;\n",
       "    }\n",
       "</style>\n",
       "<table border=\"1\" class=\"dataframe\">\n",
       "  <thead>\n",
       "    <tr style=\"text-align: right;\">\n",
       "      <th></th>\n",
       "      <th>source_x</th>\n",
       "      <th>title</th>\n",
       "      <th>abstract</th>\n",
       "      <th>publish_time</th>\n",
       "      <th>journal</th>\n",
       "      <th>is_pr</th>\n",
       "    </tr>\n",
       "  </thead>\n",
       "  <tbody>\n",
       "    <tr>\n",
       "      <th>0</th>\n",
       "      <td>Elsevier</td>\n",
       "      <td>Intrauterine virus infections and congenital h...</td>\n",
       "      <td>Abstract The etiologic basis for the vast majo...</td>\n",
       "      <td>1972-12-31</td>\n",
       "      <td>American Heart Journal</td>\n",
       "      <td>True</td>\n",
       "    </tr>\n",
       "    <tr>\n",
       "      <th>1</th>\n",
       "      <td>Elsevier</td>\n",
       "      <td>Coronaviruses in Balkan nephritis</td>\n",
       "      <td>NaN</td>\n",
       "      <td>1980-03-31</td>\n",
       "      <td>American Heart Journal</td>\n",
       "      <td>True</td>\n",
       "    </tr>\n",
       "    <tr>\n",
       "      <th>2</th>\n",
       "      <td>Elsevier</td>\n",
       "      <td>Cigarette smoking and coronary heart disease: ...</td>\n",
       "      <td>NaN</td>\n",
       "      <td>1980-03-31</td>\n",
       "      <td>American Heart Journal</td>\n",
       "      <td>True</td>\n",
       "    </tr>\n",
       "    <tr>\n",
       "      <th>3</th>\n",
       "      <td>Elsevier</td>\n",
       "      <td>Clinical and immunologic studies in identical ...</td>\n",
       "      <td>Abstract Middle-aged female identical twins, o...</td>\n",
       "      <td>1973-08-31</td>\n",
       "      <td>The American Journal of Medicine</td>\n",
       "      <td>True</td>\n",
       "    </tr>\n",
       "    <tr>\n",
       "      <th>4</th>\n",
       "      <td>Elsevier</td>\n",
       "      <td>Epidemiology of community-acquired respiratory...</td>\n",
       "      <td>Abstract Upper respiratory tract infections ar...</td>\n",
       "      <td>1985-06-28</td>\n",
       "      <td>The American Journal of Medicine</td>\n",
       "      <td>True</td>\n",
       "    </tr>\n",
       "  </tbody>\n",
       "</table>\n",
       "</div>"
      ],
      "text/plain": [
       "   source_x                                              title  \\\n",
       "0  Elsevier  Intrauterine virus infections and congenital h...   \n",
       "1  Elsevier                  Coronaviruses in Balkan nephritis   \n",
       "2  Elsevier  Cigarette smoking and coronary heart disease: ...   \n",
       "3  Elsevier  Clinical and immunologic studies in identical ...   \n",
       "4  Elsevier  Epidemiology of community-acquired respiratory...   \n",
       "\n",
       "                                            abstract publish_time  \\\n",
       "0  Abstract The etiologic basis for the vast majo...   1972-12-31   \n",
       "1                                                NaN   1980-03-31   \n",
       "2                                                NaN   1980-03-31   \n",
       "3  Abstract Middle-aged female identical twins, o...   1973-08-31   \n",
       "4  Abstract Upper respiratory tract infections ar...   1985-06-28   \n",
       "\n",
       "                            journal  is_pr  \n",
       "0            American Heart Journal   True  \n",
       "1            American Heart Journal   True  \n",
       "2            American Heart Journal   True  \n",
       "3  The American Journal of Medicine   True  \n",
       "4  The American Journal of Medicine   True  "
      ]
     },
     "execution_count": 3,
     "metadata": {},
     "output_type": "execute_result"
    }
   ],
   "source": [
    "df_allen = pd.read_csv(ALLEN_AI_RES_PATH)[['source_x', 'title', 'abstract', 'publish_time', 'journal']]\n",
    "df_allen['is_pr'] = ~df_allen.source_x.isin(['biorxiv', 'medrxiv']) # those sources are considered non-peer reviewed\n",
    "\n",
    "print(len(df_allen.index))\n",
    "df_allen.head(5)"
   ]
  },
  {
   "cell_type": "code",
   "execution_count": 4,
   "metadata": {},
   "outputs": [
    {
     "name": "stdout",
     "output_type": "stream",
     "text": [
      "Removing 224 entries without titles\n",
      "Remaining 43996\n"
     ]
    }
   ],
   "source": [
    "print('Removing', df_allen.title.isna().sum(), 'entries without titles')\n",
    "df_allen = df_allen[~df_allen.title.isna()]\n",
    "print('Remaining', len(df_allen.index))"
   ]
  },
  {
   "cell_type": "code",
   "execution_count": 5,
   "metadata": {},
   "outputs": [
    {
     "name": "stdout",
     "output_type": "stream",
     "text": [
      "Removing 103 entries with title of format <x>Author index<z>\n",
      "Remaining 43893\n"
     ]
    }
   ],
   "source": [
    "print('Removing', df_allen.title.str.contains('Author index').sum(), 'entries with title of format <x>Author index<z>')\n",
    "df_allen = df_allen[~df_allen.title.str.contains('Author index')]\n",
    "print('Remaining', len(df_allen.index))"
   ]
  },
  {
   "cell_type": "code",
   "execution_count": 6,
   "metadata": {},
   "outputs": [
    {
     "name": "stdout",
     "output_type": "stream",
     "text": [
      "Removing 3 entries with title = \"Authors\"\n",
      "Remaining 43890\n"
     ]
    }
   ],
   "source": [
    "print('Removing', df_allen[df_allen.title == 'Authors'].count()[0], 'entries with title = \"Authors\"')\n",
    "df_allen = df_allen[df_allen.title != 'Authors']\n",
    "print('Remaining', len(df_allen.index))"
   ]
  },
  {
   "cell_type": "code",
   "execution_count": 7,
   "metadata": {},
   "outputs": [
    {
     "name": "stdout",
     "output_type": "stream",
     "text": [
      "Removing 8 entries with title = \"Index of Authors\"\n",
      "Remaining 43882\n"
     ]
    }
   ],
   "source": [
    "print('Removing', df_allen[df_allen.title == 'Index of Authors'].count()[0], 'entries with title = \"Index of Authors\"')\n",
    "df_allen = df_allen[df_allen.title != 'Index of Authors']\n",
    "print('Remaining', len(df_allen.index))"
   ]
  },
  {
   "cell_type": "code",
   "execution_count": 8,
   "metadata": {},
   "outputs": [
    {
     "name": "stdout",
     "output_type": "stream",
     "text": [
      "Removing 66 entries with title = \"Information for Authors\"\n",
      "Remaining 43816\n"
     ]
    }
   ],
   "source": [
    "print('Removing', df_allen[df_allen.title == 'Information for Authors'].count()[0], 'entries with title = \"Information for Authors\"')\n",
    "df_allen = df_allen[df_allen.title != 'Information for Authors']\n",
    "print('Remaining', len(df_allen.index))"
   ]
  },
  {
   "cell_type": "code",
   "execution_count": 9,
   "metadata": {},
   "outputs": [
    {
     "name": "stdout",
     "output_type": "stream",
     "text": [
      "Removing 4 entries with title = \"Instructions for Authors\"\n",
      "Remaining 43812\n"
     ]
    }
   ],
   "source": [
    "print('Removing', df_allen[df_allen.title == 'Instructions for Authors'].count()[0], 'entries with title = \"Instructions for Authors\"')\n",
    "df_allen = df_allen[df_allen.title != 'Instructions for Authors']\n",
    "print('Remaining', len(df_allen.index))"
   ]
  },
  {
   "cell_type": "code",
   "execution_count": 10,
   "metadata": {},
   "outputs": [
    {
     "name": "stdout",
     "output_type": "stream",
     "text": [
      "Removing 1 entries with title = \"Authors’ reply\"\n",
      "Remaining 43811\n"
     ]
    }
   ],
   "source": [
    "print('Removing', df_allen[df_allen.title == 'Authors’ reply'].count()[0], 'entries with title = \"Authors’ reply\"')\n",
    "df_allen = df_allen[df_allen.title != 'Authors’ reply']\n",
    "print('Remaining', len(df_allen.index))"
   ]
  },
  {
   "cell_type": "code",
   "execution_count": 11,
   "metadata": {},
   "outputs": [
    {
     "name": "stdout",
     "output_type": "stream",
     "text": [
      "Removing 32 entries with title of format <x>Author Index<z>\n",
      "Remaining 43779\n"
     ]
    }
   ],
   "source": [
    "print('Removing', df_allen.title.str.contains('Author Index').sum(), 'entries with title of format <x>Author Index<z>')\n",
    "df_allen = df_allen[~df_allen.title.str.contains('Author Index')]\n",
    "print('Remaining', len(df_allen.index))"
   ]
  },
  {
   "cell_type": "code",
   "execution_count": 12,
   "metadata": {},
   "outputs": [
    {
     "name": "stdout",
     "output_type": "stream",
     "text": [
      "Removing 25 entries with title of format <x>subject index<z>\n",
      "Remaining 43754\n"
     ]
    }
   ],
   "source": [
    "print('Removing', df_allen.title.str.contains('subject index').sum(), 'entries with title of format <x>subject index<z>')\n",
    "df_allen = df_allen[~df_allen.title.str.contains('subject index')]\n",
    "print('Remaining', len(df_allen.index))"
   ]
  },
  {
   "cell_type": "code",
   "execution_count": 13,
   "metadata": {},
   "outputs": [
    {
     "name": "stdout",
     "output_type": "stream",
     "text": [
      "Removing 50 entries with title of format <x>Cumulative<z>\n",
      "Remaining 43704\n"
     ]
    }
   ],
   "source": [
    "print('Removing', df_allen.title.str.contains('Cumulative').sum()-2, 'entries with title of format <x>Cumulative<z>')\n",
    "df_allen = df_allen[(~df_allen.title.str.contains('Cumulative')) | (df_allen.source_x == 'medrxiv')]\n",
    "print('Remaining', len(df_allen.index))"
   ]
  },
  {
   "cell_type": "code",
   "execution_count": 14,
   "metadata": {},
   "outputs": [
    {
     "name": "stdout",
     "output_type": "stream",
     "text": [
      "Removing 348 entries with title = \"Index\"\n",
      "Remaining 43356\n"
     ]
    }
   ],
   "source": [
    "print('Removing', df_allen[df_allen.title == 'Index'].count()[0], 'entries with title = \"Index\"')\n",
    "df_allen = df_allen[df_allen.title != 'Index']\n",
    "print('Remaining', len(df_allen.index))"
   ]
  },
  {
   "cell_type": "code",
   "execution_count": 15,
   "metadata": {},
   "outputs": [
    {
     "name": "stdout",
     "output_type": "stream",
     "text": [
      "Removing 100 entries with title of format <x>Subject Index<z>\n",
      "Remaining 43256\n"
     ]
    }
   ],
   "source": [
    "print('Removing', df_allen.title.str.contains('Subject Index').sum(), 'entries with title of format <x>Subject Index<z>')\n",
    "df_allen = df_allen[~df_allen.title.str.contains('Subject Index')]\n",
    "print('Remaining', len(df_allen.index))"
   ]
  },
  {
   "cell_type": "code",
   "execution_count": 16,
   "metadata": {},
   "outputs": [
    {
     "name": "stdout",
     "output_type": "stream",
     "text": [
      "Removing 24 entries with title of format <x>Index to<z>\n",
      "Remaining 43232\n"
     ]
    }
   ],
   "source": [
    "print('Removing', df_allen.title.str.contains('Index to').sum(), 'entries with title of format <x>Index to<z>')\n",
    "df_allen = df_allen[~df_allen.title.str.contains('Index to')]\n",
    "print('Remaining', len(df_allen.index))"
   ]
  },
  {
   "cell_type": "code",
   "execution_count": 17,
   "metadata": {},
   "outputs": [
    {
     "name": "stdout",
     "output_type": "stream",
     "text": [
      "Removing 39 entries with title of format <x>Index<z>, source=Elsevier and no abstract\n",
      "Remaining 43193\n"
     ]
    }
   ],
   "source": [
    "mask = (df_allen.title.str.contains('Index')) & (df_allen.source_x=='Elsevier') & (df_allen.abstract.fillna('Unknown') == 'Unknown')\n",
    "print('Removing', df_allen[mask].count()[0], 'entries with title of format <x>Index<z>, source=Elsevier and no abstract')\n",
    "df_allen = df_allen[~mask]\n",
    "print('Remaining', len(df_allen.index))"
   ]
  },
  {
   "cell_type": "code",
   "execution_count": 18,
   "metadata": {},
   "outputs": [
    {
     "data": {
      "text/html": [
       "<div>\n",
       "<style scoped>\n",
       "    .dataframe tbody tr th:only-of-type {\n",
       "        vertical-align: middle;\n",
       "    }\n",
       "\n",
       "    .dataframe tbody tr th {\n",
       "        vertical-align: top;\n",
       "    }\n",
       "\n",
       "    .dataframe thead th {\n",
       "        text-align: right;\n",
       "    }\n",
       "</style>\n",
       "<table border=\"1\" class=\"dataframe\">\n",
       "  <thead>\n",
       "    <tr style=\"text-align: right;\">\n",
       "      <th></th>\n",
       "      <th>source_x</th>\n",
       "      <th>title</th>\n",
       "      <th>abstract</th>\n",
       "      <th>publish_time</th>\n",
       "      <th>journal</th>\n",
       "      <th>is_pr</th>\n",
       "    </tr>\n",
       "  </thead>\n",
       "  <tbody>\n",
       "    <tr>\n",
       "      <th>17301</th>\n",
       "      <td>Elsevier</td>\n",
       "      <td>Independent research of China in Science Citat...</td>\n",
       "      <td>Abstract The study explores the characteristic...</td>\n",
       "      <td>2013-01-31</td>\n",
       "      <td>Journal of Informetrics</td>\n",
       "      <td>True</td>\n",
       "    </tr>\n",
       "    <tr>\n",
       "      <th>18222</th>\n",
       "      <td>CZI</td>\n",
       "      <td>The Author's Response: Case of the Index Patie...</td>\n",
       "      <td>NaN</td>\n",
       "      <td>2020</td>\n",
       "      <td>J Korean Med Sci</td>\n",
       "      <td>True</td>\n",
       "    </tr>\n",
       "    <tr>\n",
       "      <th>20318</th>\n",
       "      <td>PMC</td>\n",
       "      <td>Clustering Heart Rate Dynamics Is Associated w...</td>\n",
       "      <td>BACKGROUND: Genetic polymorphisms in the gene ...</td>\n",
       "      <td>2011 May 4</td>\n",
       "      <td>PLoS One</td>\n",
       "      <td>True</td>\n",
       "    </tr>\n",
       "    <tr>\n",
       "      <th>21825</th>\n",
       "      <td>PMC</td>\n",
       "      <td>Establishing and Applying a Schistosomiasis Ea...</td>\n",
       "      <td>BACKGROUND: China has made remarkable progress...</td>\n",
       "      <td>2014 Apr 4</td>\n",
       "      <td>PLoS One</td>\n",
       "      <td>True</td>\n",
       "    </tr>\n",
       "    <tr>\n",
       "      <th>24794</th>\n",
       "      <td>PMC</td>\n",
       "      <td>Progression of the Radiologic Severity Index p...</td>\n",
       "      <td>BACKGROUND: Radiologic severity may predict ad...</td>\n",
       "      <td>2018 May 17</td>\n",
       "      <td>PLoS One</td>\n",
       "      <td>True</td>\n",
       "    </tr>\n",
       "    <tr>\n",
       "      <th>27005</th>\n",
       "      <td>PMC</td>\n",
       "      <td>Social Network Characteristics and Body Mass I...</td>\n",
       "      <td>OBJECTIVES: Research has shown that obesity ap...</td>\n",
       "      <td>2013 Nov 28</td>\n",
       "      <td>J Prev Med Public Health</td>\n",
       "      <td>True</td>\n",
       "    </tr>\n",
       "    <tr>\n",
       "      <th>27876</th>\n",
       "      <td>PMC</td>\n",
       "      <td>1583. The Utility of the Immunodeficiency Scor...</td>\n",
       "      <td>BACKGROUND: Respiratory viral infections in HC...</td>\n",
       "      <td>2018 Nov 26</td>\n",
       "      <td>Open Forum Infect Dis</td>\n",
       "      <td>True</td>\n",
       "    </tr>\n",
       "    <tr>\n",
       "      <th>28082</th>\n",
       "      <td>PMC</td>\n",
       "      <td>2792. Association of Body Mass Index with Rate...</td>\n",
       "      <td>BACKGROUND: Obesity is a serious public health...</td>\n",
       "      <td>2019 Oct 23</td>\n",
       "      <td>Open Forum Infect Dis</td>\n",
       "      <td>True</td>\n",
       "    </tr>\n",
       "    <tr>\n",
       "      <th>28455</th>\n",
       "      <td>PMC</td>\n",
       "      <td>Severe Acute Respiratory Syndrome (SARS) in Si...</td>\n",
       "      <td>Severe acute respiratory syndrome (SARS) is an...</td>\n",
       "      <td>2003 Jun</td>\n",
       "      <td>Emerg Infect Dis</td>\n",
       "      <td>True</td>\n",
       "    </tr>\n",
       "    <tr>\n",
       "      <th>28671</th>\n",
       "      <td>PMC</td>\n",
       "      <td>Index Patient and SARS Outbreak in Hong Kong</td>\n",
       "      <td>During the global outbreak of severe acute res...</td>\n",
       "      <td>2004 Feb</td>\n",
       "      <td>Emerg Infect Dis</td>\n",
       "      <td>True</td>\n",
       "    </tr>\n",
       "    <tr>\n",
       "      <th>31816</th>\n",
       "      <td>PMC</td>\n",
       "      <td>Social Vulnerability Index for the Older Peopl...</td>\n",
       "      <td>Many world cities have suffered large-scale di...</td>\n",
       "      <td>NaN</td>\n",
       "      <td>NaN</td>\n",
       "      <td>True</td>\n",
       "    </tr>\n",
       "    <tr>\n",
       "      <th>31989</th>\n",
       "      <td>PMC</td>\n",
       "      <td>Interferon Gene Expression in Sputum Cells Cor...</td>\n",
       "      <td>RATIONALE: The majority of asthma exacerbation...</td>\n",
       "      <td>NaN</td>\n",
       "      <td>NaN</td>\n",
       "      <td>True</td>\n",
       "    </tr>\n",
       "    <tr>\n",
       "      <th>32219</th>\n",
       "      <td>PMC</td>\n",
       "      <td>Functional Comorbidity Index in Sleep Apnea</td>\n",
       "      <td>OBJECTIVES: 1) Measure the association between...</td>\n",
       "      <td>NaN</td>\n",
       "      <td>NaN</td>\n",
       "      <td>True</td>\n",
       "    </tr>\n",
       "    <tr>\n",
       "      <th>35348</th>\n",
       "      <td>PMC</td>\n",
       "      <td>Index of Subjects</td>\n",
       "      <td>NaN</td>\n",
       "      <td>NaN</td>\n",
       "      <td>NaN</td>\n",
       "      <td>True</td>\n",
       "    </tr>\n",
       "    <tr>\n",
       "      <th>36170</th>\n",
       "      <td>PMC</td>\n",
       "      <td>Index of Subjects</td>\n",
       "      <td>NaN</td>\n",
       "      <td>NaN</td>\n",
       "      <td>NaN</td>\n",
       "      <td>True</td>\n",
       "    </tr>\n",
       "    <tr>\n",
       "      <th>36361</th>\n",
       "      <td>PMC</td>\n",
       "      <td>Index of Subjects</td>\n",
       "      <td>NaN</td>\n",
       "      <td>NaN</td>\n",
       "      <td>NaN</td>\n",
       "      <td>True</td>\n",
       "    </tr>\n",
       "    <tr>\n",
       "      <th>40894</th>\n",
       "      <td>CZI</td>\n",
       "      <td>Case of the Index Patient Who Caused Tertiary ...</td>\n",
       "      <td>Since mid-December of 2019, coronavirus diseas...</td>\n",
       "      <td>2020</td>\n",
       "      <td>Journal of Korean Medical Science</td>\n",
       "      <td>True</td>\n",
       "    </tr>\n",
       "    <tr>\n",
       "      <th>41730</th>\n",
       "      <td>PMC</td>\n",
       "      <td>Letter to the Editor: Case of the Index Patien...</td>\n",
       "      <td>NaN</td>\n",
       "      <td>2020 Feb 20</td>\n",
       "      <td>J Korean Med Sci</td>\n",
       "      <td>True</td>\n",
       "    </tr>\n",
       "    <tr>\n",
       "      <th>42996</th>\n",
       "      <td>PMC</td>\n",
       "      <td>Assessing global preparedness for the next pan...</td>\n",
       "      <td>INTRODUCTION: Robust metrics for national-leve...</td>\n",
       "      <td>2019 Jan 29</td>\n",
       "      <td>BMJ Glob Health</td>\n",
       "      <td>True</td>\n",
       "    </tr>\n",
       "  </tbody>\n",
       "</table>\n",
       "</div>"
      ],
      "text/plain": [
       "       source_x                                              title  \\\n",
       "17301  Elsevier  Independent research of China in Science Citat...   \n",
       "18222       CZI  The Author's Response: Case of the Index Patie...   \n",
       "20318       PMC  Clustering Heart Rate Dynamics Is Associated w...   \n",
       "21825       PMC  Establishing and Applying a Schistosomiasis Ea...   \n",
       "24794       PMC  Progression of the Radiologic Severity Index p...   \n",
       "27005       PMC  Social Network Characteristics and Body Mass I...   \n",
       "27876       PMC  1583. The Utility of the Immunodeficiency Scor...   \n",
       "28082       PMC  2792. Association of Body Mass Index with Rate...   \n",
       "28455       PMC  Severe Acute Respiratory Syndrome (SARS) in Si...   \n",
       "28671       PMC       Index Patient and SARS Outbreak in Hong Kong   \n",
       "31816       PMC  Social Vulnerability Index for the Older Peopl...   \n",
       "31989       PMC  Interferon Gene Expression in Sputum Cells Cor...   \n",
       "32219       PMC        Functional Comorbidity Index in Sleep Apnea   \n",
       "35348       PMC                                  Index of Subjects   \n",
       "36170       PMC                                  Index of Subjects   \n",
       "36361       PMC                                  Index of Subjects   \n",
       "40894       CZI  Case of the Index Patient Who Caused Tertiary ...   \n",
       "41730       PMC  Letter to the Editor: Case of the Index Patien...   \n",
       "42996       PMC  Assessing global preparedness for the next pan...   \n",
       "\n",
       "                                                abstract publish_time  \\\n",
       "17301  Abstract The study explores the characteristic...   2013-01-31   \n",
       "18222                                                NaN         2020   \n",
       "20318  BACKGROUND: Genetic polymorphisms in the gene ...   2011 May 4   \n",
       "21825  BACKGROUND: China has made remarkable progress...   2014 Apr 4   \n",
       "24794  BACKGROUND: Radiologic severity may predict ad...  2018 May 17   \n",
       "27005  OBJECTIVES: Research has shown that obesity ap...  2013 Nov 28   \n",
       "27876  BACKGROUND: Respiratory viral infections in HC...  2018 Nov 26   \n",
       "28082  BACKGROUND: Obesity is a serious public health...  2019 Oct 23   \n",
       "28455  Severe acute respiratory syndrome (SARS) is an...     2003 Jun   \n",
       "28671  During the global outbreak of severe acute res...     2004 Feb   \n",
       "31816  Many world cities have suffered large-scale di...          NaN   \n",
       "31989  RATIONALE: The majority of asthma exacerbation...          NaN   \n",
       "32219  OBJECTIVES: 1) Measure the association between...          NaN   \n",
       "35348                                                NaN          NaN   \n",
       "36170                                                NaN          NaN   \n",
       "36361                                                NaN          NaN   \n",
       "40894  Since mid-December of 2019, coronavirus diseas...         2020   \n",
       "41730                                                NaN  2020 Feb 20   \n",
       "42996  INTRODUCTION: Robust metrics for national-leve...  2019 Jan 29   \n",
       "\n",
       "                                 journal  is_pr  \n",
       "17301            Journal of Informetrics   True  \n",
       "18222                   J Korean Med Sci   True  \n",
       "20318                           PLoS One   True  \n",
       "21825                           PLoS One   True  \n",
       "24794                           PLoS One   True  \n",
       "27005           J Prev Med Public Health   True  \n",
       "27876              Open Forum Infect Dis   True  \n",
       "28082              Open Forum Infect Dis   True  \n",
       "28455                   Emerg Infect Dis   True  \n",
       "28671                   Emerg Infect Dis   True  \n",
       "31816                                NaN   True  \n",
       "31989                                NaN   True  \n",
       "32219                                NaN   True  \n",
       "35348                                NaN   True  \n",
       "36170                                NaN   True  \n",
       "36361                                NaN   True  \n",
       "40894  Journal of Korean Medical Science   True  \n",
       "41730                   J Korean Med Sci   True  \n",
       "42996                    BMJ Glob Health   True  "
      ]
     },
     "execution_count": 18,
     "metadata": {},
     "output_type": "execute_result"
    }
   ],
   "source": [
    "df_allen[df_allen.title.str.contains('Index')]"
   ]
  },
  {
   "cell_type": "code",
   "execution_count": 19,
   "metadata": {},
   "outputs": [
    {
     "name": "stdout",
     "output_type": "stream",
     "text": [
      "Starting with 'Abstract' 9324\n",
      "No Abstract 5429\n",
      "Rest 3713\n"
     ]
    }
   ],
   "source": [
    "df_elsevier = df_allen[df_allen.source_x=='Elsevier']\n",
    "starts_with_abstract = len(df_elsevier[df_elsevier.abstract.fillna('').str.startswith('Abstract')].index)\n",
    "abstract_is_na = df_elsevier.abstract.isna().sum()\n",
    "print(\"Starting with 'Abstract'\", starts_with_abstract)\n",
    "print(\"No Abstract\", abstract_is_na)\n",
    "print(\"Rest\", len(df_elsevier.index) - starts_with_abstract - abstract_is_na)"
   ]
  },
  {
   "cell_type": "code",
   "execution_count": 20,
   "metadata": {},
   "outputs": [
    {
     "data": {
      "text/plain": [
       "18466"
      ]
     },
     "execution_count": 20,
     "metadata": {},
     "output_type": "execute_result"
    }
   ],
   "source": [
    "len(df_elsevier.index)"
   ]
  },
  {
   "cell_type": "markdown",
   "metadata": {},
   "source": [
    "Starting with 'Abstract' 9324\n",
    "No Abstract 5980\n",
    "Rest 4167"
   ]
  },
  {
   "cell_type": "code",
   "execution_count": 21,
   "metadata": {},
   "outputs": [
    {
     "data": {
      "text/plain": [
       "19471"
      ]
     },
     "execution_count": 21,
     "metadata": {},
     "output_type": "execute_result"
    }
   ],
   "source": [
    "9324+5980+4167"
   ]
  },
  {
   "cell_type": "code",
   "execution_count": null,
   "metadata": {},
   "outputs": [],
   "source": []
  }
 ],
 "metadata": {
  "kernelspec": {
   "display_name": "Python 3",
   "language": "python",
   "name": "python3"
  },
  "language_info": {
   "codemirror_mode": {
    "name": "ipython",
    "version": 3
   },
   "file_extension": ".py",
   "mimetype": "text/x-python",
   "name": "python",
   "nbconvert_exporter": "python",
   "pygments_lexer": "ipython3",
   "version": "3.7.3"
  },
  "widgets": {
   "application/vnd.jupyter.widget-state+json": {
    "state": {},
    "version_major": 2,
    "version_minor": 0
   }
  }
 },
 "nbformat": 4,
 "nbformat_minor": 4
}
