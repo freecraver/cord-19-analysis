{
 "cells": [
  {
   "cell_type": "code",
   "execution_count": 1,
   "metadata": {},
   "outputs": [],
   "source": [
    "import pandas as pd\n",
    "import numpy as np\n",
    "import matplotlib.pyplot as plt\n",
    "import math\n",
    "\n",
    "plt.style.use('ggplot')\n",
    "%matplotlib inline"
   ]
  },
  {
   "cell_type": "code",
   "execution_count": 20,
   "metadata": {},
   "outputs": [],
   "source": [
    "ALLEN_AI_RES_PATH = \"../res/allenai/metadata.csv\"\n",
    "ALLEN_AI_SUBS_PATH = \"../res/allenai/metadata_subset.csv\""
   ]
  },
  {
   "cell_type": "code",
   "execution_count": 3,
   "metadata": {},
   "outputs": [
    {
     "name": "stdout",
     "output_type": "stream",
     "text": [
      "59887\n"
     ]
    },
    {
     "name": "stderr",
     "output_type": "stream",
     "text": [
      "E:\\Python\\Anaconda3\\lib\\site-packages\\IPython\\core\\interactiveshell.py:3049: DtypeWarning: Columns (14) have mixed types. Specify dtype option on import or set low_memory=False.\n",
      "  interactivity=interactivity, compiler=compiler, result=result)\n"
     ]
    },
    {
     "data": {
      "text/html": [
       "<div>\n",
       "<style scoped>\n",
       "    .dataframe tbody tr th:only-of-type {\n",
       "        vertical-align: middle;\n",
       "    }\n",
       "\n",
       "    .dataframe tbody tr th {\n",
       "        vertical-align: top;\n",
       "    }\n",
       "\n",
       "    .dataframe thead th {\n",
       "        text-align: right;\n",
       "    }\n",
       "</style>\n",
       "<table border=\"1\" class=\"dataframe\">\n",
       "  <thead>\n",
       "    <tr style=\"text-align: right;\">\n",
       "      <th></th>\n",
       "      <th>source_x</th>\n",
       "      <th>title</th>\n",
       "      <th>abstract</th>\n",
       "      <th>publish_time</th>\n",
       "      <th>journal</th>\n",
       "      <th>is_pr</th>\n",
       "    </tr>\n",
       "  </thead>\n",
       "  <tbody>\n",
       "    <tr>\n",
       "      <th>0</th>\n",
       "      <td>PMC</td>\n",
       "      <td>Sequence requirements for RNA strand transfer ...</td>\n",
       "      <td>Nidovirus subgenomic mRNAs contain a leader se...</td>\n",
       "      <td>2001-12-17</td>\n",
       "      <td>The EMBO Journal</td>\n",
       "      <td>True</td>\n",
       "    </tr>\n",
       "    <tr>\n",
       "      <th>1</th>\n",
       "      <td>PMC</td>\n",
       "      <td>Crystal structure of murine sCEACAM1a[1,4]: a ...</td>\n",
       "      <td>CEACAM1 is a member of the carcinoembryonic an...</td>\n",
       "      <td>2002-05-01</td>\n",
       "      <td>The EMBO Journal</td>\n",
       "      <td>True</td>\n",
       "    </tr>\n",
       "    <tr>\n",
       "      <th>2</th>\n",
       "      <td>PMC</td>\n",
       "      <td>Synthesis of a novel hepatitis C virus protein...</td>\n",
       "      <td>Hepatitis C virus (HCV) is an important human ...</td>\n",
       "      <td>2001-07-16</td>\n",
       "      <td>EMBO J</td>\n",
       "      <td>True</td>\n",
       "    </tr>\n",
       "    <tr>\n",
       "      <th>3</th>\n",
       "      <td>PMC</td>\n",
       "      <td>Structure of coronavirus main proteinase revea...</td>\n",
       "      <td>The key enzyme in coronavirus polyprotein proc...</td>\n",
       "      <td>2002-07-01</td>\n",
       "      <td>The EMBO Journal</td>\n",
       "      <td>True</td>\n",
       "    </tr>\n",
       "    <tr>\n",
       "      <th>4</th>\n",
       "      <td>PMC</td>\n",
       "      <td>Discontinuous and non-discontinuous subgenomic...</td>\n",
       "      <td>Arteri-, corona-, toro- and roniviruses are ev...</td>\n",
       "      <td>2002-12-01</td>\n",
       "      <td>The EMBO Journal</td>\n",
       "      <td>True</td>\n",
       "    </tr>\n",
       "  </tbody>\n",
       "</table>\n",
       "</div>"
      ],
      "text/plain": [
       "  source_x                                              title  \\\n",
       "0      PMC  Sequence requirements for RNA strand transfer ...   \n",
       "1      PMC  Crystal structure of murine sCEACAM1a[1,4]: a ...   \n",
       "2      PMC  Synthesis of a novel hepatitis C virus protein...   \n",
       "3      PMC  Structure of coronavirus main proteinase revea...   \n",
       "4      PMC  Discontinuous and non-discontinuous subgenomic...   \n",
       "\n",
       "                                            abstract publish_time  \\\n",
       "0  Nidovirus subgenomic mRNAs contain a leader se...   2001-12-17   \n",
       "1  CEACAM1 is a member of the carcinoembryonic an...   2002-05-01   \n",
       "2  Hepatitis C virus (HCV) is an important human ...   2001-07-16   \n",
       "3  The key enzyme in coronavirus polyprotein proc...   2002-07-01   \n",
       "4  Arteri-, corona-, toro- and roniviruses are ev...   2002-12-01   \n",
       "\n",
       "            journal  is_pr  \n",
       "0  The EMBO Journal   True  \n",
       "1  The EMBO Journal   True  \n",
       "2            EMBO J   True  \n",
       "3  The EMBO Journal   True  \n",
       "4  The EMBO Journal   True  "
      ]
     },
     "execution_count": 3,
     "metadata": {},
     "output_type": "execute_result"
    }
   ],
   "source": [
    "df_allen = pd.read_csv(ALLEN_AI_RES_PATH)[['source_x', 'title', 'abstract', 'publish_time', 'journal']]\n",
    "df_allen['is_pr'] = ~df_allen.source_x.isin(['biorxiv', 'medrxiv', 'arxiv']) # those sources are considered non-peer reviewed\n",
    "\n",
    "print(len(df_allen.index))\n",
    "df_allen.head(5)"
   ]
  },
  {
   "cell_type": "code",
   "execution_count": 4,
   "metadata": {},
   "outputs": [
    {
     "name": "stdout",
     "output_type": "stream",
     "text": [
      "Removing 163 entries without titles\n",
      "Remaining 59724\n"
     ]
    }
   ],
   "source": [
    "print('Removing', df_allen.title.isna().sum(), 'entries without titles')\n",
    "df_allen = df_allen[~df_allen.title.isna()]\n",
    "print('Remaining', len(df_allen.index))"
   ]
  },
  {
   "cell_type": "code",
   "execution_count": 5,
   "metadata": {},
   "outputs": [
    {
     "name": "stdout",
     "output_type": "stream",
     "text": [
      "Removing 37 entries with title of format <x>Author index<z>\n",
      "Remaining 59687\n"
     ]
    }
   ],
   "source": [
    "print('Removing', df_allen.title.str.contains('Author index').sum(), 'entries with title of format <x>Author index<z>')\n",
    "df_allen = df_allen[~df_allen.title.str.contains('Author index')]\n",
    "print('Remaining', len(df_allen.index))"
   ]
  },
  {
   "cell_type": "code",
   "execution_count": 6,
   "metadata": {},
   "outputs": [
    {
     "name": "stdout",
     "output_type": "stream",
     "text": [
      "Removing 4 entries with title = \"Authors\"\n",
      "Remaining 59683\n"
     ]
    }
   ],
   "source": [
    "print('Removing', df_allen[df_allen.title == 'Authors'].count()[0], 'entries with title = \"Authors\"')\n",
    "df_allen = df_allen[df_allen.title != 'Authors']\n",
    "print('Remaining', len(df_allen.index))"
   ]
  },
  {
   "cell_type": "code",
   "execution_count": 7,
   "metadata": {},
   "outputs": [
    {
     "name": "stdout",
     "output_type": "stream",
     "text": [
      "Removing 0 entries with title = \"Index of Authors\"\n",
      "Remaining 59683\n"
     ]
    }
   ],
   "source": [
    "print('Removing', df_allen[df_allen.title == 'Index of Authors'].count()[0], 'entries with title = \"Index of Authors\"')\n",
    "df_allen = df_allen[df_allen.title != 'Index of Authors']\n",
    "print('Remaining', len(df_allen.index))"
   ]
  },
  {
   "cell_type": "code",
   "execution_count": 8,
   "metadata": {},
   "outputs": [
    {
     "name": "stdout",
     "output_type": "stream",
     "text": [
      "Removing 0 entries with title = \"Information for Authors\"\n",
      "Remaining 59683\n"
     ]
    }
   ],
   "source": [
    "print('Removing', df_allen[df_allen.title == 'Information for Authors'].count()[0], 'entries with title = \"Information for Authors\"')\n",
    "df_allen = df_allen[df_allen.title != 'Information for Authors']\n",
    "print('Remaining', len(df_allen.index))"
   ]
  },
  {
   "cell_type": "code",
   "execution_count": 9,
   "metadata": {},
   "outputs": [
    {
     "name": "stdout",
     "output_type": "stream",
     "text": [
      "Removing 4 entries with title = \"Instructions for Authors\"\n",
      "Remaining 59679\n"
     ]
    }
   ],
   "source": [
    "print('Removing', df_allen[df_allen.title == 'Instructions for Authors'].count()[0], 'entries with title = \"Instructions for Authors\"')\n",
    "df_allen = df_allen[df_allen.title != 'Instructions for Authors']\n",
    "print('Remaining', len(df_allen.index))"
   ]
  },
  {
   "cell_type": "code",
   "execution_count": 10,
   "metadata": {},
   "outputs": [
    {
     "name": "stdout",
     "output_type": "stream",
     "text": [
      "Removing 1 entries with title = \"Authors’ reply\"\n",
      "Remaining 59678\n"
     ]
    }
   ],
   "source": [
    "print('Removing', df_allen[df_allen.title == 'Authors’ reply'].count()[0], 'entries with title = \"Authors’ reply\"')\n",
    "df_allen = df_allen[df_allen.title != 'Authors’ reply']\n",
    "print('Remaining', len(df_allen.index))"
   ]
  },
  {
   "cell_type": "code",
   "execution_count": 11,
   "metadata": {},
   "outputs": [
    {
     "name": "stdout",
     "output_type": "stream",
     "text": [
      "Removing 13 entries with title of format <x>Author Index<z>\n",
      "Remaining 59665\n"
     ]
    }
   ],
   "source": [
    "print('Removing', df_allen.title.str.contains('Author Index').sum(), 'entries with title of format <x>Author Index<z>')\n",
    "df_allen = df_allen[~df_allen.title.str.contains('Author Index')]\n",
    "print('Remaining', len(df_allen.index))"
   ]
  },
  {
   "cell_type": "code",
   "execution_count": 12,
   "metadata": {},
   "outputs": [
    {
     "name": "stdout",
     "output_type": "stream",
     "text": [
      "Removing 26 entries with title of format <x>subject index<z>\n",
      "Remaining 59639\n"
     ]
    }
   ],
   "source": [
    "print('Removing', df_allen.title.str.contains('subject index').sum(), 'entries with title of format <x>subject index<z>')\n",
    "df_allen = df_allen[~df_allen.title.str.contains('subject index')]\n",
    "print('Remaining', len(df_allen.index))"
   ]
  },
  {
   "cell_type": "code",
   "execution_count": 13,
   "metadata": {},
   "outputs": [
    {
     "name": "stdout",
     "output_type": "stream",
     "text": [
      "Removing 45 entries with title of format <x>Cumulative<z>\n",
      "Remaining 59595\n"
     ]
    }
   ],
   "source": [
    "print('Removing', df_allen.title.str.contains('Cumulative').sum()-2, 'entries with title of format <x>Cumulative<z>')\n",
    "df_allen = df_allen[(~df_allen.title.str.contains('Cumulative')) | (df_allen.source_x == 'medrxiv')]\n",
    "print('Remaining', len(df_allen.index))"
   ]
  },
  {
   "cell_type": "code",
   "execution_count": 15,
   "metadata": {},
   "outputs": [
    {
     "name": "stdout",
     "output_type": "stream",
     "text": [
      "Removing 0 entries with title = \"Index\"\n",
      "Remaining 59595\n"
     ]
    }
   ],
   "source": [
    "print('Removing', df_allen[df_allen.title == 'Index'].count()[0], 'entries with title = \"Index\"')\n",
    "df_allen = df_allen[df_allen.title != 'Index']\n",
    "print('Remaining', len(df_allen.index))"
   ]
  },
  {
   "cell_type": "code",
   "execution_count": 16,
   "metadata": {},
   "outputs": [
    {
     "name": "stdout",
     "output_type": "stream",
     "text": [
      "Removing 17 entries with title of format <x>Subject Index<z>\n",
      "Remaining 59578\n"
     ]
    }
   ],
   "source": [
    "print('Removing', df_allen.title.str.contains('Subject Index').sum(), 'entries with title of format <x>Subject Index<z>')\n",
    "df_allen = df_allen[~df_allen.title.str.contains('Subject Index')]\n",
    "print('Remaining', len(df_allen.index))"
   ]
  },
  {
   "cell_type": "code",
   "execution_count": 17,
   "metadata": {},
   "outputs": [
    {
     "name": "stdout",
     "output_type": "stream",
     "text": [
      "Removing 25 entries with title of format <x>Index to<z>\n",
      "Remaining 59553\n"
     ]
    }
   ],
   "source": [
    "print('Removing', df_allen.title.str.contains('Index to').sum(), 'entries with title of format <x>Index to<z>')\n",
    "df_allen = df_allen[~df_allen.title.str.contains('Index to')]\n",
    "print('Remaining', len(df_allen.index))"
   ]
  },
  {
   "cell_type": "code",
   "execution_count": 18,
   "metadata": {},
   "outputs": [
    {
     "name": "stdout",
     "output_type": "stream",
     "text": [
      "Removing 37 entries with title of format <x>Index<z>, source=Elsevier and no abstract\n",
      "Remaining 59516\n"
     ]
    }
   ],
   "source": [
    "mask = (df_allen.title.str.contains('Index')) & (df_allen.source_x=='Elsevier') & (df_allen.abstract.fillna('Unknown') == 'Unknown')\n",
    "print('Removing', df_allen[mask].count()[0], 'entries with title of format <x>Index<z>, source=Elsevier and no abstract')\n",
    "df_allen = df_allen[~mask]\n",
    "print('Remaining', len(df_allen.index))"
   ]
  },
  {
   "cell_type": "code",
   "execution_count": 26,
   "metadata": {},
   "outputs": [
    {
     "name": "stdout",
     "output_type": "stream",
     "text": [
      "Removing 67 entries with title of format <x>Subject index<z>\n",
      "Remaining 59449\n"
     ]
    }
   ],
   "source": [
    "print('Removing', df_allen.title.str.contains('Subject index').sum(), 'entries with title of format <x>Subject index<z>')\n",
    "df_allen = df_allen[~df_allen.title.str.contains('Subject index')]\n",
    "print('Remaining', len(df_allen.index))"
   ]
  },
  {
   "cell_type": "code",
   "execution_count": 36,
   "metadata": {},
   "outputs": [
    {
     "name": "stdout",
     "output_type": "stream",
     "text": [
      "Removing 1442 entries starting with \"Chapter \"\n",
      "Remaining 58007\n"
     ]
    }
   ],
   "source": [
    "print('Removing', df_allen.title.str.startswith('Chapter ').sum(), 'entries starting with \"Chapter \"')\n",
    "df_allen = df_allen[~df_allen.title.str.startswith('Chapter ')]\n",
    "print('Remaining', len(df_allen.index))"
   ]
  },
  {
   "cell_type": "code",
   "execution_count": 37,
   "metadata": {},
   "outputs": [
    {
     "data": {
      "text/plain": [
       "array([], dtype=object)"
      ]
     },
     "execution_count": 37,
     "metadata": {},
     "output_type": "execute_result"
    }
   ],
   "source": [
    "df_allen[df_allen.title.str.startswith('Chapter')].title.values"
   ]
  },
  {
   "cell_type": "code",
   "execution_count": 38,
   "metadata": {},
   "outputs": [],
   "source": [
    "df_allen.to_csv(ALLEN_AI_SUBS_PATH, index=False)"
   ]
  },
  {
   "cell_type": "code",
   "execution_count": 21,
   "metadata": {},
   "outputs": [
    {
     "name": "stdout",
     "output_type": "stream",
     "text": [
      "Starting with 'Abstract' 10860\n",
      "No Abstract 6999\n",
      "Rest 4544\n"
     ]
    }
   ],
   "source": [
    "df_elsevier = df_allen[df_allen.source_x=='Elsevier']\n",
    "starts_with_abstract = len(df_elsevier[df_elsevier.abstract.fillna('').str.startswith('Abstract')].index)\n",
    "abstract_is_na = df_elsevier.abstract.isna().sum()\n",
    "print(\"Starting with 'Abstract'\", starts_with_abstract)\n",
    "print(\"No Abstract\", abstract_is_na)\n",
    "print(\"Rest\", len(df_elsevier.index) - starts_with_abstract - abstract_is_na)"
   ]
  },
  {
   "cell_type": "code",
   "execution_count": 22,
   "metadata": {},
   "outputs": [
    {
     "data": {
      "text/plain": [
       "22403"
      ]
     },
     "execution_count": 22,
     "metadata": {},
     "output_type": "execute_result"
    }
   ],
   "source": [
    "len(df_elsevier.index)"
   ]
  },
  {
   "cell_type": "code",
   "execution_count": null,
   "metadata": {},
   "outputs": [],
   "source": []
  }
 ],
 "metadata": {
  "kernelspec": {
   "display_name": "Python 3",
   "language": "python",
   "name": "python3"
  },
  "language_info": {
   "codemirror_mode": {
    "name": "ipython",
    "version": 3
   },
   "file_extension": ".py",
   "mimetype": "text/x-python",
   "name": "python",
   "nbconvert_exporter": "python",
   "pygments_lexer": "ipython3",
   "version": "3.7.3"
  },
  "widgets": {
   "application/vnd.jupyter.widget-state+json": {
    "state": {},
    "version_major": 2,
    "version_minor": 0
   }
  }
 },
 "nbformat": 4,
 "nbformat_minor": 4
}
