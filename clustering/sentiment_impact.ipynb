{
 "cells": [
  {
   "cell_type": "markdown",
   "metadata": {},
   "source": [
    "# The goal of this notebook is to calculcate the impact of single terms (unigrams) on the polarity scores of sentences - publications - journals - publication sources \n",
    "\n",
    "A few different ways are used to approximate the influence of a single term"
   ]
  },
  {
   "cell_type": "code",
   "execution_count": 1,
   "metadata": {},
   "outputs": [],
   "source": [
    "from nltk.sentiment.vader import SentimentIntensityAnalyzer, SentiText, VaderConstants\n",
    "from nltk import tokenize"
   ]
  },
  {
   "cell_type": "code",
   "execution_count": 2,
   "metadata": {},
   "outputs": [],
   "source": [
    "import pandas as pd\n",
    "import numpy as np\n",
    "import math\n",
    "\n",
    "import matplotlib.pyplot as plt\n",
    "plt.style.use('ggplot')\n",
    "%matplotlib inline\n",
    "\n",
    "from tqdm import tqdm"
   ]
  },
  {
   "cell_type": "markdown",
   "metadata": {},
   "source": [
    "### Import dataset"
   ]
  },
  {
   "cell_type": "code",
   "execution_count": 3,
   "metadata": {},
   "outputs": [
    {
     "name": "stdout",
     "output_type": "stream",
     "text": [
      "58007\n"
     ]
    },
    {
     "data": {
      "text/html": [
       "<div>\n",
       "<style scoped>\n",
       "    .dataframe tbody tr th:only-of-type {\n",
       "        vertical-align: middle;\n",
       "    }\n",
       "\n",
       "    .dataframe tbody tr th {\n",
       "        vertical-align: top;\n",
       "    }\n",
       "\n",
       "    .dataframe thead th {\n",
       "        text-align: right;\n",
       "    }\n",
       "</style>\n",
       "<table border=\"1\" class=\"dataframe\">\n",
       "  <thead>\n",
       "    <tr style=\"text-align: right;\">\n",
       "      <th></th>\n",
       "      <th>source_x</th>\n",
       "      <th>title</th>\n",
       "      <th>abstract</th>\n",
       "      <th>publish_time</th>\n",
       "      <th>journal</th>\n",
       "      <th>is_pr</th>\n",
       "    </tr>\n",
       "  </thead>\n",
       "  <tbody>\n",
       "    <tr>\n",
       "      <th>0</th>\n",
       "      <td>PMC</td>\n",
       "      <td>Sequence requirements for RNA strand transfer ...</td>\n",
       "      <td>Nidovirus subgenomic mRNAs contain a leader se...</td>\n",
       "      <td>2001-12-17</td>\n",
       "      <td>The EMBO Journal</td>\n",
       "      <td>True</td>\n",
       "    </tr>\n",
       "    <tr>\n",
       "      <th>1</th>\n",
       "      <td>PMC</td>\n",
       "      <td>Crystal structure of murine sCEACAM1a[1,4]: a ...</td>\n",
       "      <td>CEACAM1 is a member of the carcinoembryonic an...</td>\n",
       "      <td>2002-05-01</td>\n",
       "      <td>The EMBO Journal</td>\n",
       "      <td>True</td>\n",
       "    </tr>\n",
       "    <tr>\n",
       "      <th>2</th>\n",
       "      <td>PMC</td>\n",
       "      <td>Synthesis of a novel hepatitis C virus protein...</td>\n",
       "      <td>Hepatitis C virus (HCV) is an important human ...</td>\n",
       "      <td>2001-07-16</td>\n",
       "      <td>EMBO J</td>\n",
       "      <td>True</td>\n",
       "    </tr>\n",
       "    <tr>\n",
       "      <th>3</th>\n",
       "      <td>PMC</td>\n",
       "      <td>Structure of coronavirus main proteinase revea...</td>\n",
       "      <td>The key enzyme in coronavirus polyprotein proc...</td>\n",
       "      <td>2002-07-01</td>\n",
       "      <td>The EMBO Journal</td>\n",
       "      <td>True</td>\n",
       "    </tr>\n",
       "    <tr>\n",
       "      <th>4</th>\n",
       "      <td>PMC</td>\n",
       "      <td>Discontinuous and non-discontinuous subgenomic...</td>\n",
       "      <td>Arteri-, corona-, toro- and roniviruses are ev...</td>\n",
       "      <td>2002-12-01</td>\n",
       "      <td>The EMBO Journal</td>\n",
       "      <td>True</td>\n",
       "    </tr>\n",
       "  </tbody>\n",
       "</table>\n",
       "</div>"
      ],
      "text/plain": [
       "  source_x                                              title  \\\n",
       "0      PMC  Sequence requirements for RNA strand transfer ...   \n",
       "1      PMC  Crystal structure of murine sCEACAM1a[1,4]: a ...   \n",
       "2      PMC  Synthesis of a novel hepatitis C virus protein...   \n",
       "3      PMC  Structure of coronavirus main proteinase revea...   \n",
       "4      PMC  Discontinuous and non-discontinuous subgenomic...   \n",
       "\n",
       "                                            abstract publish_time  \\\n",
       "0  Nidovirus subgenomic mRNAs contain a leader se...   2001-12-17   \n",
       "1  CEACAM1 is a member of the carcinoembryonic an...   2002-05-01   \n",
       "2  Hepatitis C virus (HCV) is an important human ...   2001-07-16   \n",
       "3  The key enzyme in coronavirus polyprotein proc...   2002-07-01   \n",
       "4  Arteri-, corona-, toro- and roniviruses are ev...   2002-12-01   \n",
       "\n",
       "            journal  is_pr  \n",
       "0  The EMBO Journal   True  \n",
       "1  The EMBO Journal   True  \n",
       "2            EMBO J   True  \n",
       "3  The EMBO Journal   True  \n",
       "4  The EMBO Journal   True  "
      ]
     },
     "execution_count": 3,
     "metadata": {},
     "output_type": "execute_result"
    }
   ],
   "source": [
    "ALLEN_AI_SUBS_PATH = \"../res/allenai/metadata_subset.csv\"\n",
    "\n",
    "df_allen = pd.read_csv(ALLEN_AI_SUBS_PATH)[['source_x', 'title', 'abstract', 'publish_time', 'journal', 'is_pr']]\n",
    "df_allen = df_allen.fillna('')\n",
    "\n",
    "print(len(df_allen.index))\n",
    "df_allen.head(5)"
   ]
  },
  {
   "cell_type": "code",
   "execution_count": 4,
   "metadata": {},
   "outputs": [
    {
     "data": {
      "text/plain": [
       "array(['Sequence requirements for RNA strand transfer during nidovirus discontinuous subgenomic RNA synthesis - Nidovirus subgenomic mRNAs contain a leader sequence derived from the 5′ end of the genome fused to different sequences (‘bodies’) derived from the 3′ end. Their generation involves a unique mechanism of discontinuous subgenomic RNA synthesis that resembles copy-choice RNA recombination. During this process, the nascent RNA strand is transferred from one site in the template to another, during either plus or minus strand synthesis, to yield subgenomic RNA molecules. Central to this process are transcription-regulating sequences (TRSs), which are present at both template sites and ensure the fidelity of strand transfer. Here we present results of a comprehensive co-variation mutagenesis study of equine arteritis virus TRSs, demonstrating that discontinuous RNA synthesis depends not only on base pairing between sense leader TRS and antisense body TRS, but also on the primary sequence of the body TRS. While the leader TRS merely plays a targeting role for strand transfer, the body TRS fulfils multiple functions. The sequences of mRNA leader–body junctions of TRS mutants strongly suggested that the discontinuous step occurs during minus strand synthesis.',\n",
       "       'Crystal structure of murine sCEACAM1a[1,4]: a coronavirus receptor in the CEA family - CEACAM1 is a member of the carcinoembryonic antigen (CEA) family. Isoforms of murine CEACAM1 serve as receptors for mouse hepatitis virus (MHV), a murine coronavirus. Here we report the crystal structure of soluble murine sCEACAM1a[1,4], which is composed of two Ig-like domains and has MHV neutralizing activity. Its N-terminal domain has a uniquely folded CC′ loop that encompasses key virus-binding residues. This is the first atomic structure of any member of the CEA family, and provides a prototypic architecture for functional exploration of CEA family members. We discuss the structural basis of virus receptor activities of murine CEACAM1 proteins, binding of Neisseria to human CEACAM1, and other homophilic and heterophilic interactions of CEA family members.'],\n",
       "      dtype=object)"
      ]
     },
     "execution_count": 4,
     "metadata": {},
     "output_type": "execute_result"
    }
   ],
   "source": [
    "raw_txt = df_allen[['title', 'abstract']].agg(' - '.join, axis=1)\n",
    "raw_txt.values[:2]"
   ]
  },
  {
   "cell_type": "markdown",
   "metadata": {},
   "source": [
    "## Variante A - Using just the values from the valence lexicon\n",
    "\n",
    "This does not take into considerations closeness to degree adverbs (https://en.wiktionary.org/wiki/Category:English_degree_adverbs), Negations and other tweaks of the vader implementation  \n",
    "Out-of-Vocabulary words are treated as neutral terms"
   ]
  },
  {
   "cell_type": "code",
   "execution_count": 5,
   "metadata": {},
   "outputs": [
    {
     "name": "stdout",
     "output_type": "stream",
     "text": [
      "Top 10 positive terms\n",
      "[('aml', 3.4), ('ilu', 3.4), ('ily', 3.4), ('magnificently', 3.4), ('lya', 3.3), ('ecstacy', 3.3), ('euphoria', 3.3), ('sweetheart', 3.3), ('143', 3.2), ('best', 3.2)]\n",
      "Top 10 negative terms\n",
      "[('rapist', -3.9), ('raping', -3.8), ('slavery', -3.8), ('fu', -3.7), ('kill', -3.7), ('murder', -3.7), ('rape', -3.7), ('terrorist', -3.7), ('hatefulness', -3.6), ('hell', -3.6)]\n"
     ]
    }
   ],
   "source": [
    "sid = SentimentIntensityAnalyzer()\n",
    "vader_constants = VaderConstants()\n",
    "print(\"Top 10 positive terms\")\n",
    "print([(x, sid.lexicon[x]) for x in sorted(sid.lexicon, key=sid.lexicon.get, reverse=True)[:10]])\n",
    "print(\"Top 10 negative terms\")\n",
    "print([(x, sid.lexicon[x]) for x in sorted(sid.lexicon, key=sid.lexicon.get)[:10]])"
   ]
  },
  {
   "cell_type": "markdown",
   "metadata": {},
   "source": [
    "##### The top 10 positive words already indicate that Vader is more useful for domains like social media. A lot of abbreviations for 'i love you' are found at the top"
   ]
  },
  {
   "cell_type": "markdown",
   "metadata": {},
   "source": [
    "#### Calculate per sentence polarity impact\n",
    "Here I normalize the impact in a similar way to the Vader implementation (see https://www.nltk.org/api/nltk.sentiment.html#nltk.sentiment.vader.SentimentIntensityAnalyzer.score_valence). Punctuation amplifiers are taken into account on sentence level, so I do not include them on a term-base calculation.  \n",
    "Note that the nltk Vader implementation adds the scalar 1 for positive terms and -1 for negative terms to account for the impact of neutral terms. e.g. the sentence `good or bad` is mapped first to lexicon values `[1.9, 0, -2.5]` and then translated to polarity impact scores `[2.9, 1, -3.5]`. The sum of absolute values (in this case `7.4`) is used for normalization.  \n",
    "For neutral terms the polarity impact is fixed to `0`. This is a simplification for this calculation, removing a neutral term would increase the polarity impact of non-neutral terms in the actual implementation. For `good` the calculated impact is `2.9/7.4` for `bad` it is `-3.5/7.4`  \n",
    "The polarity score of a term is multiplied by the number of it's occurences in the string"
   ]
  },
  {
   "cell_type": "code",
   "execution_count": 6,
   "metadata": {},
   "outputs": [],
   "source": [
    "def clean_text(sentence):\n",
    "    # this is done using the Vader implementation of nltk - it is a very simple nlp pre-processing function, which performs mainly punctuation removal\n",
    "    sentitext = SentiText(sentence, vader_constants.PUNC_LIST, vader_constants.REGEX_REMOVE_PUNCTUATION)\n",
    "    return [x.lower() for x in sentitext.words_and_emoticons]\n",
    "\n",
    "def get_polarity_impact(term):\n",
    "    valence = sid.lexicon.get(term) or 0\n",
    "    return valence + 1 if valence >= 0 else valence -1 # neutral terms reduce impact of non-neutral terms\n",
    "\n",
    "def get_sentence_polarity_impact_map(sentence):\n",
    "    term_scores = dict()\n",
    "    cleaned_sentence = clean_text(sentence)\n",
    "    \n",
    "    # aggregate term polarity impact per unique term\n",
    "    for term in cleaned_sentence:\n",
    "        if not term in term_scores:\n",
    "            term_scores[term] = 0\n",
    "        term_scores[term] += get_polarity_impact(term)\n",
    "    \n",
    "    total_impact_sum = sum([abs(x) for x in term_scores.values()])\n",
    "    term_scores.update({term: term_impact/total_impact_sum if sid.lexicon.get(term) else 0 for term, term_impact in term_scores.items()})\n",
    "    \n",
    "    return {k:term_scores[k] for k in term_scores if term_scores[k] != 0}"
   ]
  },
  {
   "cell_type": "markdown",
   "metadata": {},
   "source": [
    "For simple sentences this gives a good explanation of the polarity scores"
   ]
  },
  {
   "cell_type": "code",
   "execution_count": 7,
   "metadata": {},
   "outputs": [
    {
     "data": {
      "text/plain": [
       "{'well': 0.27631578947368424, 'bad': -0.46052631578947373}"
      ]
     },
     "execution_count": 7,
     "metadata": {},
     "output_type": "execute_result"
    }
   ],
   "source": [
    "get_sentence_polarity_impact_map(\"Well, this is bad\")"
   ]
  },
  {
   "cell_type": "code",
   "execution_count": 8,
   "metadata": {},
   "outputs": [
    {
     "data": {
      "text/plain": [
       "{'neg': 0.461, 'neu': 0.263, 'pos': 0.276, 'compound': -0.34}"
      ]
     },
     "execution_count": 8,
     "metadata": {},
     "output_type": "execute_result"
    }
   ],
   "source": [
    "sid.polarity_scores(\"Well, this is bad\")"
   ]
  },
  {
   "cell_type": "markdown",
   "metadata": {},
   "source": [
    "Keep in mind: For more complex sentences (with negations, etc.) this does not work "
   ]
  },
  {
   "cell_type": "code",
   "execution_count": 9,
   "metadata": {},
   "outputs": [
    {
     "data": {
      "text/plain": [
       "{'well': 0.21000000000000002, 'better': 0.29}"
      ]
     },
     "execution_count": 9,
     "metadata": {},
     "output_type": "execute_result"
    }
   ],
   "source": [
    "get_sentence_polarity_impact_map(\"Very well, but this is not better\")"
   ]
  },
  {
   "cell_type": "code",
   "execution_count": 10,
   "metadata": {},
   "outputs": [
    {
     "data": {
      "text/plain": [
       "{'neg': 0.317, 'neu': 0.51, 'pos': 0.173, 'compound': -0.3426}"
      ]
     },
     "execution_count": 10,
     "metadata": {},
     "output_type": "execute_result"
    }
   ],
   "source": [
    "sid.polarity_scores(\"Very well, but this is not better\")"
   ]
  },
  {
   "cell_type": "markdown",
   "metadata": {},
   "source": [
    "### Calculate per document polarity impact\n",
    "Here I chose to average individual impacts out over all sentences, i.e. sum up individual word impacts and divide by the number of sentences"
   ]
  },
  {
   "cell_type": "code",
   "execution_count": 11,
   "metadata": {},
   "outputs": [],
   "source": [
    "def get_document_polarity_impact_map(doc):\n",
    "    term_scores = dict()\n",
    "    sentences = tokenize.sent_tokenize(doc)\n",
    "    cnt_sentences = len(sentences)\n",
    "    for sentence in sentences:\n",
    "        sentence_term_map = get_sentence_polarity_impact_map(sentence)\n",
    "        for term in sentence_term_map:\n",
    "            term_scores[term] = term_scores.get(term, 0) + sentence_term_map[term]/cnt_sentences\n",
    "    return term_scores        "
   ]
  },
  {
   "cell_type": "code",
   "execution_count": 12,
   "metadata": {},
   "outputs": [
    {
     "data": {
      "text/plain": [
       "{'sentence': 0.03892215568862275,\n",
       " 'good': 0.19344399436421272,\n",
       " 'bad': -0.23346688974991192,\n",
       " 'sentences': 0.04411764705882353}"
      ]
     },
     "execution_count": 12,
     "metadata": {},
     "output_type": "execute_result"
    }
   ],
   "source": [
    "get_document_polarity_impact_map(\"This sentence is used as an example for good and bad terms. The terms good and bad occur in both sentences\")"
   ]
  },
  {
   "cell_type": "markdown",
   "metadata": {},
   "source": [
    "### Calculate per group polarity impact\n",
    "Pretty similar to the document aggregation, here we average the impact over all documents within a group of documents"
   ]
  },
  {
   "cell_type": "code",
   "execution_count": 13,
   "metadata": {},
   "outputs": [],
   "source": [
    "def get_group_polarity_impact_map(documents):\n",
    "    term_scores = dict()\n",
    "    cnt_docs = len(documents)\n",
    "    for doc in tqdm(documents):\n",
    "        doc_term_map = get_document_polarity_impact_map(doc)\n",
    "        for term in doc_term_map:\n",
    "            term_scores[term] = term_scores.get(term, 0) + doc_term_map[term]/cnt_docs\n",
    "    return term_scores"
   ]
  },
  {
   "cell_type": "code",
   "execution_count": 14,
   "metadata": {},
   "outputs": [
    {
     "name": "stderr",
     "output_type": "stream",
     "text": [
      "100%|███████████████████████████████████████████████████████████████████████████████████| 5/5 [00:00<00:00, 208.34it/s]\n"
     ]
    },
    {
     "data": {
      "text/plain": [
       "{'ensure': 0.0031476997578692495,\n",
       " 'comprehensive': 0.0012987012987012987,\n",
       " 'plays': 0.0031746031746031746,\n",
       " 'strongly': 0.002843601895734597,\n",
       " 'exploration': 0.0025435073627844713,\n",
       " 'novel': 0.009068342337523674,\n",
       " 'important': 0.004191804211724531,\n",
       " 'mature': 0.0032258064516129024,\n",
       " 'natural': 0.002197802197802198,\n",
       " 'low': -0.0012773722627737226,\n",
       " 'active': 0.0021774193548387095,\n",
       " 'united': 0.0021705426356589145,\n",
       " 'best': 0.003206106870229008,\n",
       " 'lack': -0.0044660194174757275,\n",
       " 'surprisingly': 0.0027160493827160497}"
      ]
     },
     "execution_count": 14,
     "metadata": {},
     "output_type": "execute_result"
    }
   ],
   "source": [
    "get_group_polarity_impact_map(raw_txt[:5])"
   ]
  },
  {
   "cell_type": "markdown",
   "metadata": {},
   "source": [
    "### Applying it to cord-19 sources"
   ]
  },
  {
   "cell_type": "code",
   "execution_count": 15,
   "metadata": {},
   "outputs": [
    {
     "name": "stderr",
     "output_type": "stream",
     "text": [
      "  0%|                                                                              | 21/32223 [00:00<02:34, 207.93it/s]"
     ]
    },
    {
     "name": "stdout",
     "output_type": "stream",
     "text": [
      "Calculating for PMC\n"
     ]
    },
    {
     "name": "stderr",
     "output_type": "stream",
     "text": [
      "100%|███████████████████████████████████████████████████████████████████████████| 32223/32223 [01:28<00:00, 364.20it/s]\n",
      "  0%|▏                                                                             | 55/20898 [00:00<00:38, 544.45it/s]"
     ]
    },
    {
     "name": "stdout",
     "output_type": "stream",
     "text": [
      "Calculating for Elsevier\n"
     ]
    },
    {
     "name": "stderr",
     "output_type": "stream",
     "text": [
      "100%|███████████████████████████████████████████████████████████████████████████| 20898/20898 [00:41<00:00, 506.89it/s]\n",
      " 62%|█████████████████████████████████████████████████▌                              | 62/100 [00:00<00:00, 607.85it/s]"
     ]
    },
    {
     "name": "stdout",
     "output_type": "stream",
     "text": [
      "Calculating for CZI\n"
     ]
    },
    {
     "name": "stderr",
     "output_type": "stream",
     "text": [
      "100%|███████████████████████████████████████████████████████████████████████████████| 100/100 [00:00<00:00, 492.61it/s]\n",
      "  5%|███▉                                                                            | 45/918 [00:00<00:01, 449.91it/s]"
     ]
    },
    {
     "name": "stdout",
     "output_type": "stream",
     "text": [
      "Calculating for WHO\n"
     ]
    },
    {
     "name": "stderr",
     "output_type": "stream",
     "text": [
      "100%|███████████████████████████████████████████████████████████████████████████████| 918/918 [00:01<00:00, 469.80it/s]\n",
      "  3%|██▎                                                                            | 31/1064 [00:00<00:03, 295.19it/s]"
     ]
    },
    {
     "name": "stdout",
     "output_type": "stream",
     "text": [
      "Calculating for biorxiv\n"
     ]
    },
    {
     "name": "stderr",
     "output_type": "stream",
     "text": [
      "100%|█████████████████████████████████████████████████████████████████████████████| 1064/1064 [00:03<00:00, 300.77it/s]\n",
      "  2%|█▌                                                                             | 41/2007 [00:00<00:04, 401.98it/s]"
     ]
    },
    {
     "name": "stdout",
     "output_type": "stream",
     "text": [
      "Calculating for medrxiv\n"
     ]
    },
    {
     "name": "stderr",
     "output_type": "stream",
     "text": [
      "100%|█████████████████████████████████████████████████████████████████████████████| 2007/2007 [00:06<00:00, 297.94it/s]\n",
      "  4%|███▌                                                                            | 35/797 [00:00<00:02, 349.92it/s]"
     ]
    },
    {
     "name": "stdout",
     "output_type": "stream",
     "text": [
      "Calculating for arxiv\n"
     ]
    },
    {
     "name": "stderr",
     "output_type": "stream",
     "text": [
      "100%|███████████████████████████████████████████████████████████████████████████████| 797/797 [00:02<00:00, 380.90it/s]\n"
     ]
    }
   ],
   "source": [
    "source_term_maps = dict()\n",
    "sources = df_allen.source_x.unique()\n",
    "for source in sources:\n",
    "    print(\"Calculating for\", source)\n",
    "    docs = raw_txt[df_allen.source_x == source]\n",
    "    source_term_maps[source] = get_group_polarity_impact_map(docs)"
   ]
  },
  {
   "cell_type": "code",
   "execution_count": 16,
   "metadata": {},
   "outputs": [
    {
     "data": {
      "image/png": "[encoded data removed]",
      "text/plain": [
       "<Figure size 1152x1152 with 7 Axes>"
      ]
     },
     "metadata": {
      "needs_background": "light"
     },
     "output_type": "display_data"
    }
   ],
   "source": [
    "fig = plt.figure(figsize=(16,16))\n",
    "for i, source in enumerate(sources):\n",
    "    ax = fig.add_subplot(math.ceil(len(sources)/2),2,i+1)\n",
    "    sorted_term_keys = sorted(source_term_maps[source], key=source_term_maps[source].get)\n",
    "    top_term_map = {**{x:source_term_maps[source][x] for x in sorted_term_keys[:5]},**{x:source_term_maps[source][x] for x in sorted_term_keys[-5:]}}\n",
    "    pd.DataFrame(top_term_map, index=[0]).plot(kind='bar', title=source, ax=ax)"
   ]
  },
  {
   "cell_type": "code",
   "execution_count": 17,
   "metadata": {},
   "outputs": [],
   "source": [
    "def show_term_impact(term):\n",
    "    source_map = {source:source_term_maps[source].get(term,0) for source in sources}\n",
    "    print(source_map)\n",
    "    pd.DataFrame(source_map, index=[0]).plot(kind='bar', title=f'Polarity impact of {term}', figsize=(4,4))"
   ]
  },
  {
   "cell_type": "code",
   "execution_count": 18,
   "metadata": {},
   "outputs": [
    {
     "name": "stdout",
     "output_type": "stream",
     "text": [
      "{'PMC': 0.0023785516585170634, 'Elsevier': 0.0021970029377585245, 'CZI': 0.02464067962162597, 'WHO': 0.023373475505300393, 'biorxiv': 0.004435865873670101, 'medrxiv': 0.002675886336955419, 'arxiv': 0.0023280900725307454}\n"
     ]
    },
    {
     "data": {
      "image/png": "[encoded data removed]",
      "text/plain": [
       "<Figure size 288x288 with 1 Axes>"
      ]
     },
     "metadata": {
      "needs_background": "light"
     },
     "output_type": "display_data"
    }
   ],
   "source": [
    "show_term_impact('novel')"
   ]
  },
  {
   "cell_type": "code",
   "execution_count": null,
   "metadata": {},
   "outputs": [],
   "source": []
  }
 ],
 "metadata": {
  "kernelspec": {
   "display_name": "Python 3",
   "language": "python",
   "name": "python3"
  },
  "language_info": {
   "codemirror_mode": {
    "name": "ipython",
    "version": 3
   },
   "file_extension": ".py",
   "mimetype": "text/x-python",
   "name": "python",
   "nbconvert_exporter": "python",
   "pygments_lexer": "ipython3",
   "version": "3.7.3"
  },
  "widgets": {
   "application/vnd.jupyter.widget-state+json": {
    "state": {},
    "version_major": 2,
    "version_minor": 0
   }
  }
 },
 "nbformat": 4,
 "nbformat_minor": 4
}
