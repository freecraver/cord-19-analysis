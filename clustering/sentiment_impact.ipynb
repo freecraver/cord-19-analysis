{
 "cells": [
  {
   "cell_type": "markdown",
   "metadata": {},
   "source": [
    "# The goal of this notebook is to calculcate the impact of single terms (unigrams) on the polarity scores of sentences - publications - journals - publication sources \n",
    "\n",
    "A few different ways are used to approximate the influence of a single term"
   ]
  },
  {
   "cell_type": "code",
   "execution_count": 2,
   "metadata": {},
   "outputs": [],
   "source": [
    "from nltk.sentiment.vader import SentimentIntensityAnalyzer, SentiText, VaderConstants"
   ]
  },
  {
   "cell_type": "markdown",
   "metadata": {},
   "source": [
    "## Variante A - Using just the values from the valence lexicon\n",
    "\n",
    "This does not take into considerations closeness to degree adverbs (https://en.wiktionary.org/wiki/Category:English_degree_adverbs), Negations and other tweaks of the vader implementation  \n",
    "Out-of-Vocabulary words are treated as neutral terms"
   ]
  },
  {
   "cell_type": "code",
   "execution_count": 5,
   "metadata": {},
   "outputs": [
    {
     "name": "stdout",
     "output_type": "stream",
     "text": [
      "Top 10 positive terms\n",
      "[('aml', 3.4), ('ilu', 3.4), ('ily', 3.4), ('magnificently', 3.4), ('lya', 3.3), ('ecstacy', 3.3), ('euphoria', 3.3), ('sweetheart', 3.3), ('143', 3.2), ('best', 3.2)]\n",
      "Top 10 negative terms\n",
      "[('rapist', -3.9), ('raping', -3.8), ('slavery', -3.8), ('fu', -3.7), ('kill', -3.7), ('murder', -3.7), ('rape', -3.7), ('terrorist', -3.7), ('hatefulness', -3.6), ('hell', -3.6)]\n"
     ]
    }
   ],
   "source": [
    "sid = SentimentIntensityAnalyzer()\n",
    "vader_constants = VaderConstants()\n",
    "print(\"Top 10 positive terms\")\n",
    "print([(x, sid.lexicon[x]) for x in sorted(sid.lexicon, key=sid.lexicon.get, reverse=True)[:10]])\n",
    "print(\"Top 10 negative terms\")\n",
    "print([(x, sid.lexicon[x]) for x in sorted(sid.lexicon, key=sid.lexicon.get)[:10]])"
   ]
  },
  {
   "cell_type": "markdown",
   "metadata": {},
   "source": [
    "##### The top 10 positive words already indicate that Vader is more useful for domains like social media. A lot of abbreviations for 'i love you' are found at the top"
   ]
  },
  {
   "cell_type": "markdown",
   "metadata": {},
   "source": [
    "#### Calculate per sentence polarity impact\n",
    "Here I normalize the impact in a similar way to the Vader implementation (see https://www.nltk.org/api/nltk.sentiment.html#nltk.sentiment.vader.SentimentIntensityAnalyzer.score_valence). Punctuation amplifiers are taken into account on sentence level, so I do not include them on a term-base calculation.  \n",
    "Note that the nltk Vader implementation adds the scalar 1 for positive terms and -1 for negative terms to account for the impact of neutral terms. e.g. the sentence `good or bad` is mapped first to lexicon values `[1.9, 0, -2.5]` and then translated to polarity impact scores `[2.9, 1, -3.5]`. The sum of absolute values (in this case `7.4`) is used for normalization.  \n",
    "For neutral terms the polarity impact is fixed to `0`. This is a simplification for this calculation, removing a neutral term would increase the polarity impact of non-neutral terms in the actual implementation. For `good` the calculated impact is `2.9/7.4` for `bad` it is `-3.5/7.4`  \n",
    "The polarity score of a term is multiplied by the number of it's occurences in the string"
   ]
  },
  {
   "cell_type": "code",
   "execution_count": 17,
   "metadata": {},
   "outputs": [],
   "source": [
    "def clean_text(sentence):\n",
    "    # this is done using the Vader implementation of nltk - it is a very simple nlp pre-processing function, which performs mainly punctuation removal\n",
    "    sentitext = SentiText(sentence, vader_constants.PUNC_LIST, vader_constants.REGEX_REMOVE_PUNCTUATION)\n",
    "    return [x.lower() for x in sentitext.words_and_emoticons]\n",
    "\n",
    "def get_polarity_impact(term):\n",
    "    valence = sid.lexicon.get(term) or 0\n",
    "    return valence + 1 if valence >= 0 else valence -1 # neutral terms reduce impact of non-neutral terms\n",
    "\n",
    "def get_sentence_polarity_impact_map(sentence):\n",
    "    term_scores = dict()\n",
    "    cleaned_sentence = clean_text(sentence)\n",
    "    \n",
    "    # aggregate term polarity impact per unique term\n",
    "    for term in cleaned_sentence:\n",
    "        if not term in term_scores:\n",
    "            term_scores[term] = 0\n",
    "        term_scores[term] += get_polarity_impact(term)\n",
    "    \n",
    "    total_impact_sum = sum([abs(x) for x in term_scores.values()])\n",
    "    term_scores.update({term: term_impact/total_impact_sum if term_impact != 1 else 0 for term, term_impact in term_scores.items()})\n",
    "    \n",
    "    return term_scores"
   ]
  },
  {
   "cell_type": "markdown",
   "metadata": {},
   "source": [
    "For simple sentences this gives a good explaination "
   ]
  },
  {
   "cell_type": "code",
   "execution_count": 26,
   "metadata": {},
   "outputs": [
    {
     "data": {
      "text/plain": [
       "{'well': 0.27631578947368424, 'this': 0, 'is': 0, 'bad': -0.46052631578947373}"
      ]
     },
     "execution_count": 26,
     "metadata": {},
     "output_type": "execute_result"
    }
   ],
   "source": [
    "get_sentence_polarity_impact_map(\"Well, this is bad\")"
   ]
  },
  {
   "cell_type": "code",
   "execution_count": 27,
   "metadata": {},
   "outputs": [
    {
     "data": {
      "text/plain": [
       "{'neg': 0.461, 'neu': 0.263, 'pos': 0.276, 'compound': -0.34}"
      ]
     },
     "execution_count": 27,
     "metadata": {},
     "output_type": "execute_result"
    }
   ],
   "source": [
    "sid.polarity_scores(\"Well, this is bad\")"
   ]
  },
  {
   "cell_type": "code",
   "execution_count": null,
   "metadata": {},
   "outputs": [],
   "source": []
  }
 ],
 "metadata": {
  "kernelspec": {
   "display_name": "Python 3",
   "language": "python",
   "name": "python3"
  },
  "language_info": {
   "codemirror_mode": {
    "name": "ipython",
    "version": 3
   },
   "file_extension": ".py",
   "mimetype": "text/x-python",
   "name": "python",
   "nbconvert_exporter": "python",
   "pygments_lexer": "ipython3",
   "version": "3.7.3"
  },
  "widgets": {
   "application/vnd.jupyter.widget-state+json": {
    "state": {},
    "version_major": 2,
    "version_minor": 0
   }
  }
 },
 "nbformat": 4,
 "nbformat_minor": 4
}
