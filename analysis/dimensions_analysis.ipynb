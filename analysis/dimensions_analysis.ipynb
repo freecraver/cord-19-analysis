{
 "cells": [
  {
   "cell_type": "code",
   "execution_count": 1,
   "metadata": {},
   "outputs": [],
   "source": [
    "import pandas as pd\n",
    "import numpy as np\n",
    "import matplotlib.pyplot as plt\n",
    "from upsetplot import plot as up_plt\n",
    "from datetime import datetime\n",
    "\n",
    "plt.style.use('ggplot')\n",
    "%matplotlib inline"
   ]
  },
  {
   "cell_type": "code",
   "execution_count": 2,
   "metadata": {},
   "outputs": [],
   "source": [
    "DIMENSIONS_RES_PATH = \"../res/dimensions/export.csv\""
   ]
  },
  {
   "cell_type": "code",
   "execution_count": 3,
   "metadata": {},
   "outputs": [
    {
     "name": "stdout",
     "output_type": "stream",
     "text": [
      "4797\n"
     ]
    },
    {
     "data": {
      "text/html": [
       "<div>\n",
       "<style scoped>\n",
       "    .dataframe tbody tr th:only-of-type {\n",
       "        vertical-align: middle;\n",
       "    }\n",
       "\n",
       "    .dataframe tbody tr th {\n",
       "        vertical-align: top;\n",
       "    }\n",
       "\n",
       "    .dataframe thead th {\n",
       "        text-align: right;\n",
       "    }\n",
       "</style>\n",
       "<table border=\"1\" class=\"dataframe\">\n",
       "  <thead>\n",
       "    <tr style=\"text-align: right;\">\n",
       "      <th></th>\n",
       "      <th>Date added</th>\n",
       "      <th>Publication ID</th>\n",
       "      <th>DOI</th>\n",
       "      <th>PMID</th>\n",
       "      <th>PMCID</th>\n",
       "      <th>Title</th>\n",
       "      <th>Abstract</th>\n",
       "      <th>Source title</th>\n",
       "      <th>Source UID</th>\n",
       "      <th>Publisher</th>\n",
       "      <th>...</th>\n",
       "      <th>Research Organizations - standardized</th>\n",
       "      <th>GRID IDs</th>\n",
       "      <th>City of Research organization</th>\n",
       "      <th>Country of Research organization</th>\n",
       "      <th>Funder</th>\n",
       "      <th>UIDs of supporting grants</th>\n",
       "      <th>Times cited</th>\n",
       "      <th>Altmetric</th>\n",
       "      <th>Source Linkout</th>\n",
       "      <th>Dimensions URL</th>\n",
       "    </tr>\n",
       "  </thead>\n",
       "  <tbody>\n",
       "    <tr>\n",
       "      <th>0</th>\n",
       "      <td>2020-03-23</td>\n",
       "      <td>pub.1125820003</td>\n",
       "      <td>10.29333/ejgm/7850</td>\n",
       "      <td>NaN</td>\n",
       "      <td>NaN</td>\n",
       "      <td>The Possible Immunological Pathways for the Va...</td>\n",
       "      <td>NaN</td>\n",
       "      <td>Electronic Journal of General Medicine</td>\n",
       "      <td>jour.1371209</td>\n",
       "      <td>Modestum</td>\n",
       "      <td>...</td>\n",
       "      <td>NaN</td>\n",
       "      <td>NaN</td>\n",
       "      <td>NaN</td>\n",
       "      <td>NaN</td>\n",
       "      <td>NaN</td>\n",
       "      <td>NaN</td>\n",
       "      <td>0</td>\n",
       "      <td>NaN</td>\n",
       "      <td>NaN</td>\n",
       "      <td>https://app.dimensions.ai/details/publication/...</td>\n",
       "    </tr>\n",
       "    <tr>\n",
       "      <th>1</th>\n",
       "      <td>2020-03-23</td>\n",
       "      <td>pub.1125819565</td>\n",
       "      <td>10.21203/rs.3.rs-18190/v1</td>\n",
       "      <td>NaN</td>\n",
       "      <td>NaN</td>\n",
       "      <td>A Method of Estimating Time-to-Recovery for a ...</td>\n",
       "      <td>NaN</td>\n",
       "      <td>Research Square</td>\n",
       "      <td>jour.1380788</td>\n",
       "      <td>Research Square</td>\n",
       "      <td>...</td>\n",
       "      <td>NaN</td>\n",
       "      <td>NaN</td>\n",
       "      <td>NaN</td>\n",
       "      <td>NaN</td>\n",
       "      <td>NaN</td>\n",
       "      <td>NaN</td>\n",
       "      <td>0</td>\n",
       "      <td>NaN</td>\n",
       "      <td>NaN</td>\n",
       "      <td>https://app.dimensions.ai/details/publication/...</td>\n",
       "    </tr>\n",
       "    <tr>\n",
       "      <th>2</th>\n",
       "      <td>2020-03-23</td>\n",
       "      <td>pub.1125819661</td>\n",
       "      <td>10.2196/preprints.18821</td>\n",
       "      <td>NaN</td>\n",
       "      <td>NaN</td>\n",
       "      <td>Preparation for the quarantine of the cruise s...</td>\n",
       "      <td>&lt;sec xmlns=\"http://www.ncbi.nlm.nih.gov/JATS1\"...</td>\n",
       "      <td>JMIR Preprints</td>\n",
       "      <td>jour.1345647</td>\n",
       "      <td>JMIR Publications</td>\n",
       "      <td>...</td>\n",
       "      <td>NaN</td>\n",
       "      <td>NaN</td>\n",
       "      <td>NaN</td>\n",
       "      <td>NaN</td>\n",
       "      <td>NaN</td>\n",
       "      <td>NaN</td>\n",
       "      <td>0</td>\n",
       "      <td>NaN</td>\n",
       "      <td>http://dx.doi.org/10.2196/preprints.18821</td>\n",
       "      <td>https://app.dimensions.ai/details/publication/...</td>\n",
       "    </tr>\n",
       "    <tr>\n",
       "      <th>3</th>\n",
       "      <td>2020-03-23</td>\n",
       "      <td>pub.1125818201</td>\n",
       "      <td>10.26355/eurrev_202003_20551</td>\n",
       "      <td>32196628.0</td>\n",
       "      <td>NaN</td>\n",
       "      <td>Differences and similarities between Severe Ac...</td>\n",
       "      <td>NaN</td>\n",
       "      <td>European review for medical and pharmacologica...</td>\n",
       "      <td>jour.1092032</td>\n",
       "      <td>NaN</td>\n",
       "      <td>...</td>\n",
       "      <td>University of Catania</td>\n",
       "      <td>grid.8158.4</td>\n",
       "      <td>Catania</td>\n",
       "      <td>Italy</td>\n",
       "      <td>NaN</td>\n",
       "      <td>NaN</td>\n",
       "      <td>0</td>\n",
       "      <td>1.0</td>\n",
       "      <td>NaN</td>\n",
       "      <td>https://app.dimensions.ai/details/publication/...</td>\n",
       "    </tr>\n",
       "    <tr>\n",
       "      <th>4</th>\n",
       "      <td>2020-03-23</td>\n",
       "      <td>pub.1125818268</td>\n",
       "      <td>10.3760/cma.j.cn112147-20200315-00339</td>\n",
       "      <td>32198915.0</td>\n",
       "      <td>NaN</td>\n",
       "      <td>[When COVID-19 encounters interstitial lung di...</td>\n",
       "      <td>In December 2019, a new type of coronavirus pn...</td>\n",
       "      <td>中华结核和呼吸杂志</td>\n",
       "      <td>jour.1097577</td>\n",
       "      <td>NaN</td>\n",
       "      <td>...</td>\n",
       "      <td>First Affiliated Hospital of Xi'an Jiaotong Un...</td>\n",
       "      <td>grid.452438.c</td>\n",
       "      <td>Xi'an</td>\n",
       "      <td>China</td>\n",
       "      <td>NaN</td>\n",
       "      <td>NaN</td>\n",
       "      <td>0</td>\n",
       "      <td>1.0</td>\n",
       "      <td>NaN</td>\n",
       "      <td>https://app.dimensions.ai/details/publication/...</td>\n",
       "    </tr>\n",
       "  </tbody>\n",
       "</table>\n",
       "<p>5 rows × 31 columns</p>\n",
       "</div>"
      ],
      "text/plain": [
       "   Date added  Publication ID                                    DOI  \\\n",
       "0  2020-03-23  pub.1125820003                     10.29333/ejgm/7850   \n",
       "1  2020-03-23  pub.1125819565              10.21203/rs.3.rs-18190/v1   \n",
       "2  2020-03-23  pub.1125819661                10.2196/preprints.18821   \n",
       "3  2020-03-23  pub.1125818201           10.26355/eurrev_202003_20551   \n",
       "4  2020-03-23  pub.1125818268  10.3760/cma.j.cn112147-20200315-00339   \n",
       "\n",
       "         PMID PMCID                                              Title  \\\n",
       "0         NaN   NaN  The Possible Immunological Pathways for the Va...   \n",
       "1         NaN   NaN  A Method of Estimating Time-to-Recovery for a ...   \n",
       "2         NaN   NaN  Preparation for the quarantine of the cruise s...   \n",
       "3  32196628.0   NaN  Differences and similarities between Severe Ac...   \n",
       "4  32198915.0   NaN  [When COVID-19 encounters interstitial lung di...   \n",
       "\n",
       "                                            Abstract  \\\n",
       "0                                                NaN   \n",
       "1                                                NaN   \n",
       "2  <sec xmlns=\"http://www.ncbi.nlm.nih.gov/JATS1\"...   \n",
       "3                                                NaN   \n",
       "4  In December 2019, a new type of coronavirus pn...   \n",
       "\n",
       "                                        Source title    Source UID  \\\n",
       "0             Electronic Journal of General Medicine  jour.1371209   \n",
       "1                                    Research Square  jour.1380788   \n",
       "2                                     JMIR Preprints  jour.1345647   \n",
       "3  European review for medical and pharmacologica...  jour.1092032   \n",
       "4                                          中华结核和呼吸杂志  jour.1097577   \n",
       "\n",
       "           Publisher  ...              Research Organizations - standardized  \\\n",
       "0           Modestum  ...                                                NaN   \n",
       "1    Research Square  ...                                                NaN   \n",
       "2  JMIR Publications  ...                                                NaN   \n",
       "3                NaN  ...                              University of Catania   \n",
       "4                NaN  ...  First Affiliated Hospital of Xi'an Jiaotong Un...   \n",
       "\n",
       "        GRID IDs  City of Research organization  \\\n",
       "0            NaN                            NaN   \n",
       "1            NaN                            NaN   \n",
       "2            NaN                            NaN   \n",
       "3    grid.8158.4                        Catania   \n",
       "4  grid.452438.c                          Xi'an   \n",
       "\n",
       "  Country of Research organization Funder UIDs of supporting grants  \\\n",
       "0                              NaN    NaN                       NaN   \n",
       "1                              NaN    NaN                       NaN   \n",
       "2                              NaN    NaN                       NaN   \n",
       "3                            Italy    NaN                       NaN   \n",
       "4                            China    NaN                       NaN   \n",
       "\n",
       "  Times cited Altmetric                             Source Linkout  \\\n",
       "0           0       NaN                                        NaN   \n",
       "1           0       NaN                                        NaN   \n",
       "2           0       NaN  http://dx.doi.org/10.2196/preprints.18821   \n",
       "3           0       1.0                                        NaN   \n",
       "4           0       1.0                                        NaN   \n",
       "\n",
       "                                      Dimensions URL  \n",
       "0  https://app.dimensions.ai/details/publication/...  \n",
       "1  https://app.dimensions.ai/details/publication/...  \n",
       "2  https://app.dimensions.ai/details/publication/...  \n",
       "3  https://app.dimensions.ai/details/publication/...  \n",
       "4  https://app.dimensions.ai/details/publication/...  \n",
       "\n",
       "[5 rows x 31 columns]"
      ]
     },
     "execution_count": 3,
     "metadata": {},
     "output_type": "execute_result"
    }
   ],
   "source": [
    "df_dim = pd.read_csv(DIMENSIONS_RES_PATH)\n",
    "\n",
    "print(len(df_dim.index))\n",
    "df_dim.head(5)"
   ]
  },
  {
   "cell_type": "code",
   "execution_count": 4,
   "metadata": {},
   "outputs": [
    {
     "data": {
      "text/plain": [
       "MeSH terms                               4422\n",
       "UIDs of supporting grants                4406\n",
       "PMCID                                    4365\n",
       "Funder                                   4111\n",
       "Corresponding Authors                    3731\n",
       "Issue                                    2960\n",
       "Volume                                   2491\n",
       "PMID                                     2351\n",
       "Source Linkout                           1955\n",
       "GRID IDs                                 1858\n",
       "Research Organizations - standardized    1858\n",
       "City of Research organization            1858\n",
       "Country of Research organization         1858\n",
       "Abstract                                 1683\n",
       "Pagination                               1557\n",
       "Altmetric                                1466\n",
       "Publisher                                 593\n",
       "Authors                                   470\n",
       "Authors Affiliations                      470\n",
       "Source UID                                280\n",
       "Source title                              280\n",
       "DOI                                       120\n",
       "Title                                       0\n",
       "Publication ID                              0\n",
       "Dimensions URL                              0\n",
       "Publication Date                            0\n",
       "PubYear                                     0\n",
       "Open Access                                 0\n",
       "Publication Type                            0\n",
       "Times cited                                 0\n",
       "Date added                                  0\n",
       "dtype: int64"
      ]
     },
     "execution_count": 4,
     "metadata": {},
     "output_type": "execute_result"
    }
   ],
   "source": [
    "df_dim.isna().sum().sort_values(ascending=False)"
   ]
  },
  {
   "cell_type": "code",
   "execution_count": 5,
   "metadata": {},
   "outputs": [],
   "source": [
    "#mis_vals = df_dim.isna().groupby(df_dim.columns.tolist()).size()\n",
    "#up_plt(mis_vals, orientation='vertical', show_percentages=True, sort_by='cardinality')\n",
    "#plt.show()"
   ]
  },
  {
   "cell_type": "code",
   "execution_count": 6,
   "metadata": {},
   "outputs": [
    {
     "data": {
      "text/plain": [
       "Elsevier                           1108\n",
       "Cold Spring Harbor Laboratory       660\n",
       "Springer Nature                     492\n",
       "Wiley                               322\n",
       "Taylor & Francis                    140\n",
       "BMJ                                 128\n",
       "Research Square                     116\n",
       "Oxford University Press (OUP)        95\n",
       "MDPI                                 94\n",
       "American Chemical Society (ACS)      86\n",
       "Name: Publisher, dtype: int64"
      ]
     },
     "execution_count": 6,
     "metadata": {},
     "output_type": "execute_result"
    },
    {
     "data": {
      "image/png": "[encoded data removed]",
      "text/plain": [
       "<Figure size 432x288 with 1 Axes>"
      ]
     },
     "metadata": {
      "needs_background": "light"
     },
     "output_type": "display_data"
    }
   ],
   "source": [
    "df_dim.Publisher.value_counts().head(10).plot(kind='bar', title='Publisher of work')\n",
    "df_dim.Publisher.value_counts().head(10)"
   ]
  },
  {
   "cell_type": "code",
   "execution_count": 7,
   "metadata": {},
   "outputs": [],
   "source": [
    "df_dim['parsed_date'] = pd.to_datetime(df_dim['Publication Date'])"
   ]
  },
  {
   "cell_type": "code",
   "execution_count": 8,
   "metadata": {},
   "outputs": [
    {
     "name": "stdout",
     "output_type": "stream",
     "text": [
      "NA 0\n"
     ]
    },
    {
     "data": {
      "text/plain": [
       "parsed_date\n",
       "2020-03-31    2034\n",
       "2020-02-29    1016\n",
       "2020-01-31     827\n",
       "2020-04-30     172\n",
       "2020-12-31      66\n",
       "2020-05-31      45\n",
       "2020-06-30      31\n",
       "2020-07-31       7\n",
       "2020-08-31       3\n",
       "2020-09-30       2\n",
       "Name: Publisher, dtype: int64"
      ]
     },
     "execution_count": 8,
     "metadata": {},
     "output_type": "execute_result"
    },
    {
     "data": {
      "image/png": "[encoded data removed]",
      "text/plain": [
       "<Figure size 1080x576 with 1 Axes>"
      ]
     },
     "metadata": {
      "needs_background": "light"
     },
     "output_type": "display_data"
    }
   ],
   "source": [
    "df_dim.set_index('parsed_date').resample('m').count()['Publisher'].plot(kind='bar', figsize=(15,8), title='Publications per year')\n",
    "print('NA', df_dim.parsed_date.isna().sum())\n",
    "df_dim.set_index('parsed_date').resample('m').count()['Publisher'].sort_values(ascending=False).head(10)"
   ]
  },
  {
   "cell_type": "code",
   "execution_count": 9,
   "metadata": {},
   "outputs": [
    {
     "data": {
      "text/plain": [
       "article       3923\n",
       "preprint       609\n",
       "chapter        213\n",
       "book            40\n",
       "monograph       11\n",
       "proceeding       1\n",
       "Name: Publication Type, dtype: int64"
      ]
     },
     "execution_count": 9,
     "metadata": {},
     "output_type": "execute_result"
    },
    {
     "data": {
      "image/png": "[encoded data removed]",
      "text/plain": [
       "<Figure size 1080x576 with 1 Axes>"
      ]
     },
     "metadata": {
      "needs_background": "light"
     },
     "output_type": "display_data"
    }
   ],
   "source": [
    "df_dim['Publication Type'].value_counts().plot(kind='bar', title='Publication types', figsize=(15,8))\n",
    "df_dim['Publication Type'].value_counts()"
   ]
  },
  {
   "cell_type": "code",
   "execution_count": 19,
   "metadata": {},
   "outputs": [
    {
     "data": {
      "text/plain": [
       "<matplotlib.axes._subplots.AxesSubplot at 0x23a196dcbe0>"
      ]
     },
     "execution_count": 19,
     "metadata": {},
     "output_type": "execute_result"
    },
    {
     "data": {
      "image/png": "[encoded data removed]",
      "text/plain": [
       "<Figure size 1080x576 with 1 Axes>"
      ]
     },
     "metadata": {
      "needs_background": "light"
     },
     "output_type": "display_data"
    }
   ],
   "source": [
    "df_dim[df_dim['parsed_date'] < pd.Timestamp(2020,3,23)].set_index('parsed_date').resample('w').count()['Publisher'].plot(kind='bar', figsize=(15,8), title='Publications per week')"
   ]
  },
  {
   "cell_type": "code",
   "execution_count": null,
   "metadata": {},
   "outputs": [],
   "source": []
  }
 ],
 "metadata": {
  "kernelspec": {
   "display_name": "Python 3",
   "language": "python",
   "name": "python3"
  },
  "language_info": {
   "codemirror_mode": {
    "name": "ipython",
    "version": 3
   },
   "file_extension": ".py",
   "mimetype": "text/x-python",
   "name": "python",
   "nbconvert_exporter": "python",
   "pygments_lexer": "ipython3",
   "version": "3.7.3"
  },
  "widgets": {
   "application/vnd.jupyter.widget-state+json": {
    "state": {},
    "version_major": 2,
    "version_minor": 0
   }
  }
 },
 "nbformat": 4,
 "nbformat_minor": 4
}
